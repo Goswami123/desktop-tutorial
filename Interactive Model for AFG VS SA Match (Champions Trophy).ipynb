{
 "cells": [
  {
   "cell_type": "markdown",
   "id": "45091887",
   "metadata": {},
   "source": [
    "## Step 1: Import Libraries and Load Your Data"
   ]
  },
  {
   "cell_type": "code",
   "execution_count": 15,
   "id": "d38c25d6",
   "metadata": {},
   "outputs": [
    {
     "data": {
      "text/html": [
       "<div>\n",
       "<style scoped>\n",
       "    .dataframe tbody tr th:only-of-type {\n",
       "        vertical-align: middle;\n",
       "    }\n",
       "\n",
       "    .dataframe tbody tr th {\n",
       "        vertical-align: top;\n",
       "    }\n",
       "\n",
       "    .dataframe thead th {\n",
       "        text-align: right;\n",
       "    }\n",
       "</style>\n",
       "<table border=\"1\" class=\"dataframe\">\n",
       "  <thead>\n",
       "    <tr style=\"text-align: right;\">\n",
       "      <th></th>\n",
       "      <th>Date</th>\n",
       "      <th>Batting Team</th>\n",
       "      <th>Bowling Team</th>\n",
       "      <th>Striker</th>\n",
       "      <th>Non-Striker</th>\n",
       "      <th>Bowler</th>\n",
       "      <th>Innings</th>\n",
       "      <th>Unique</th>\n",
       "      <th>Over Number</th>\n",
       "      <th>Over Ball</th>\n",
       "      <th>Runs</th>\n",
       "      <th>Wides</th>\n",
       "      <th>Team Runs</th>\n",
       "      <th>Remaining Overs</th>\n",
       "      <th>Lead By</th>\n",
       "      <th>Trail By</th>\n",
       "      <th>Fall Of Wickets</th>\n",
       "      <th>Day</th>\n",
       "      <th>Session</th>\n",
       "      <th>Leg Byes</th>\n",
       "      <th>No Balls</th>\n",
       "      <th>Balls</th>\n",
       "      <th>Byes</th>\n",
       "      <th>Remaining Balls</th>\n",
       "      <th>Remaining Runs</th>\n",
       "      <th>Run Rate</th>\n",
       "      <th>Batter Sixes</th>\n",
       "      <th>Batter Runs</th>\n",
       "      <th>Batter Fours</th>\n",
       "      <th>Batter Balls</th>\n",
       "      <th>Batter Total Runs</th>\n",
       "      <th>Dismissal Type</th>\n",
       "      <th>Dismissal Fielder</th>\n",
       "      <th>On Field Minutes</th>\n",
       "      <th>Shot Angle</th>\n",
       "      <th>Shot Magnitude</th>\n",
       "      <th>Wagon Position</th>\n",
       "      <th>Pitching Length</th>\n",
       "      <th>Pitching Line</th>\n",
       "      <th>Shot Connection</th>\n",
       "      <th>False Shot</th>\n",
       "      <th>Feet Movement</th>\n",
       "      <th>Shot Type</th>\n",
       "      <th>Delivery Type</th>\n",
       "      <th>Bowling Side</th>\n",
       "      <th>Bowling Type</th>\n",
       "      <th>Bowling Hand</th>\n",
       "      <th>Catch Difficulty</th>\n",
       "    </tr>\n",
       "  </thead>\n",
       "  <tbody>\n",
       "    <tr>\n",
       "      <th>0</th>\n",
       "      <td>22-02-2025 14:00</td>\n",
       "      <td>South Africa</td>\n",
       "      <td>Afghanistan</td>\n",
       "      <td>Ryan Rickelton</td>\n",
       "      <td>Tony de Zorzi</td>\n",
       "      <td>Fazalhaq Farooqi</td>\n",
       "      <td>1</td>\n",
       "      <td>0.1</td>\n",
       "      <td>1</td>\n",
       "      <td>1</td>\n",
       "      <td>0</td>\n",
       "      <td>0</td>\n",
       "      <td>0</td>\n",
       "      <td>49.5</td>\n",
       "      <td>0</td>\n",
       "      <td>0</td>\n",
       "      <td>0</td>\n",
       "      <td>1</td>\n",
       "      <td>1</td>\n",
       "      <td>0</td>\n",
       "      <td>0</td>\n",
       "      <td>1</td>\n",
       "      <td>0</td>\n",
       "      <td>299</td>\n",
       "      <td>NaN</td>\n",
       "      <td>0.0</td>\n",
       "      <td>0</td>\n",
       "      <td>0</td>\n",
       "      <td>0</td>\n",
       "      <td>1</td>\n",
       "      <td>0</td>\n",
       "      <td>NaN</td>\n",
       "      <td>NaN</td>\n",
       "      <td>0</td>\n",
       "      <td>254</td>\n",
       "      <td>90</td>\n",
       "      <td>Mid On</td>\n",
       "      <td>Full Toss</td>\n",
       "      <td>Outside Off</td>\n",
       "      <td>Good</td>\n",
       "      <td>0</td>\n",
       "      <td>Front Foot</td>\n",
       "      <td>Flick</td>\n",
       "      <td>InSwinger</td>\n",
       "      <td>Over</td>\n",
       "      <td>Fast</td>\n",
       "      <td>Left</td>\n",
       "      <td>0</td>\n",
       "    </tr>\n",
       "    <tr>\n",
       "      <th>1</th>\n",
       "      <td>22-02-2025 14:00</td>\n",
       "      <td>South Africa</td>\n",
       "      <td>Afghanistan</td>\n",
       "      <td>Ryan Rickelton</td>\n",
       "      <td>Tony de Zorzi</td>\n",
       "      <td>Fazalhaq Farooqi</td>\n",
       "      <td>1</td>\n",
       "      <td>0.2</td>\n",
       "      <td>1</td>\n",
       "      <td>2</td>\n",
       "      <td>0</td>\n",
       "      <td>0</td>\n",
       "      <td>0</td>\n",
       "      <td>49.4</td>\n",
       "      <td>0</td>\n",
       "      <td>0</td>\n",
       "      <td>0</td>\n",
       "      <td>1</td>\n",
       "      <td>1</td>\n",
       "      <td>0</td>\n",
       "      <td>0</td>\n",
       "      <td>2</td>\n",
       "      <td>0</td>\n",
       "      <td>298</td>\n",
       "      <td>NaN</td>\n",
       "      <td>0.0</td>\n",
       "      <td>0</td>\n",
       "      <td>0</td>\n",
       "      <td>0</td>\n",
       "      <td>2</td>\n",
       "      <td>0</td>\n",
       "      <td>NaN</td>\n",
       "      <td>NaN</td>\n",
       "      <td>0</td>\n",
       "      <td>270</td>\n",
       "      <td>40</td>\n",
       "      <td>Bowler</td>\n",
       "      <td>Half Volley</td>\n",
       "      <td>Off stump</td>\n",
       "      <td>Good</td>\n",
       "      <td>0</td>\n",
       "      <td>Front Foot</td>\n",
       "      <td>Forward Defensive</td>\n",
       "      <td>InSwinger</td>\n",
       "      <td>Over</td>\n",
       "      <td>Fast</td>\n",
       "      <td>Left</td>\n",
       "      <td>0</td>\n",
       "    </tr>\n",
       "  </tbody>\n",
       "</table>\n",
       "</div>"
      ],
      "text/plain": [
       "               Date  Batting Team Bowling Team         Striker    Non-Striker            Bowler  Innings  Unique  Over Number  Over Ball  Runs  Wides  Team Runs  Remaining Overs  Lead By  Trail By  Fall Of Wickets  Day  Session  Leg Byes  No Balls  Balls  Byes  Remaining Balls  Remaining Runs  Run Rate  Batter Sixes  Batter Runs  Batter Fours  Batter Balls  Batter Total Runs Dismissal Type Dismissal Fielder  On Field Minutes  Shot Angle  Shot Magnitude Wagon Position Pitching Length Pitching Line Shot Connection  False Shot Feet Movement          Shot Type Delivery Type Bowling Side Bowling Type Bowling Hand  Catch Difficulty\n",
       "0  22-02-2025 14:00  South Africa  Afghanistan  Ryan Rickelton  Tony de Zorzi  Fazalhaq Farooqi        1     0.1            1          1     0      0          0             49.5        0         0                0    1        1         0         0      1     0              299             NaN       0.0             0            0             0             1                  0            NaN               NaN                 0         254              90         Mid On       Full Toss   Outside Off            Good           0    Front Foot              Flick     InSwinger         Over         Fast         Left                 0\n",
       "1  22-02-2025 14:00  South Africa  Afghanistan  Ryan Rickelton  Tony de Zorzi  Fazalhaq Farooqi        1     0.2            1          2     0      0          0             49.4        0         0                0    1        1         0         0      2     0              298             NaN       0.0             0            0             0             2                  0            NaN               NaN                 0         270              40         Bowler     Half Volley     Off stump            Good           0    Front Foot  Forward Defensive     InSwinger         Over         Fast         Left                 0"
      ]
     },
     "execution_count": 15,
     "metadata": {},
     "output_type": "execute_result"
    }
   ],
   "source": [
    "import pandas as pd\n",
    "import numpy as np\n",
    "import matplotlib.pyplot as plt\n",
    "from ipywidgets import interactive, IntSlider\n",
    "import ipywidgets as widgets\n",
    "import warnings\n",
    "warnings.filterwarnings('ignore')\n",
    "\n",
    "# Optional: Set display options to inspect all data if needed\n",
    "pd.set_option('display.max_rows', None)\n",
    "pd.set_option('display.max_columns', None)\n",
    "pd.set_option('display.expand_frame_repr', False)\n",
    "\n",
    "# Load the CSV file (if needed)\n",
    "df = pd.read_csv(\"AFG vs SA.csv\")\n",
    "\n",
    "# Drop any unwanted \"Unnamed: 0\" column if present\n",
    "if \"Unnamed: 0\" in df.columns:\n",
    "    df = df.drop(\"Unnamed: 0\", axis=1)\n",
    "\n",
    "df.head(2)"
   ]
  },
  {
   "cell_type": "markdown",
   "id": "0e1408f8",
   "metadata": {},
   "source": [
    "## Step 2: Define AFG’s Outcome Probabilities"
   ]
  },
  {
   "cell_type": "code",
   "execution_count": 16,
   "id": "fa193ec5",
   "metadata": {},
   "outputs": [
    {
     "name": "stdout",
     "output_type": "stream",
     "text": [
      "AFG cumulative thresholds: (0.32, 0.7, 0.75, 0.77, 0.87, 0.95, 1.0)\n"
     ]
    }
   ],
   "source": [
    "def get_pbvalues_afg():\n",
    "    \"\"\"\n",
    "    Returns cumulative probability thresholds for AFG batting outcomes.\n",
    "    Outcomes: 0, 1, 2, 3, 4, 6, and wicket.\n",
    "    (Placeholder probabilities: adjust based on historical data.)\n",
    "    \"\"\"\n",
    "    # Raw probabilities (example values)\n",
    "    p_0 = 0.32   # 32% chance for 0 runs\n",
    "    p_1 = 0.38   # 38% chance for 1 run\n",
    "    p_2 = 0.05   # 5% chance for 2 runs\n",
    "    p_3 = 0.02   # 2% chance for 3 runs\n",
    "    p_4 = 0.10   # 10% chance for 4 runs\n",
    "    p_6 = 0.08   # 8% chance for 6 runs\n",
    "    p_w = 0.05   # 5% chance of wicket\n",
    "    \n",
    "    # Cumulative thresholds:\n",
    "    p0 = p_0                         # ≤ 0.32  means 0 runs\n",
    "    p1 = p0 + p_1                    # ≤ 0.32+0.38 = 0.70 means 1 run\n",
    "    p2 = p1 + p_2                    # ≤ 0.70+0.05 = 0.75 means 2 runs\n",
    "    p3 = p2 + p_3                    # ≤ 0.75+0.02 = 0.77 means 3 runs\n",
    "    p4 = p3 + p_4                    # ≤ 0.77+0.10 = 0.87 means 4 runs\n",
    "    p6 = p4 + p_6                    # ≤ 0.87+0.08 = 0.95 means 6 runs\n",
    "    pw = 1.0                         # remaining up to 1.0 means wicket\n",
    "    \n",
    "    return p0, p1, p2, p3, p4, p6, pw\n",
    "\n",
    "# For debugging, print cumulative thresholds:\n",
    "print(\"AFG cumulative thresholds:\", get_pbvalues_afg())\n"
   ]
  },
  {
   "cell_type": "markdown",
   "id": "0fb9db69",
   "metadata": {},
   "source": [
    "## Step 3: Simulation of AFG’s Chase"
   ]
  },
  {
   "cell_type": "code",
   "execution_count": 17,
   "id": "8d467ccc",
   "metadata": {},
   "outputs": [
    {
     "name": "stdout",
     "output_type": "stream",
     "text": [
      "Predicted final runs (one simulation): 197\n"
     ]
    }
   ],
   "source": [
    "def predict_runs_afg(target, current_score, current_wickets, current_overs):\n",
    "    \"\"\"\n",
    "    Simulate the remainder of AFG's chase using the cumulative probabilities.\n",
    "    \n",
    "    Parameters:\n",
    "      target: The total score AFG must surpass (here, 316).\n",
    "      current_score: Current runs scored.\n",
    "      current_wickets: Current wickets lost.\n",
    "      current_overs: Overs completed (e.g., 19.0 for 19 overs).\n",
    "      \n",
    "    Returns:\n",
    "      Predicted final score (runs).\n",
    "    \"\"\"\n",
    "    # Get cumulative thresholds for AFG batting outcomes\n",
    "    p0, p1, p2, p3, p4, p6, pw = get_pbvalues_afg()\n",
    "    \n",
    "    pred_runs = current_score\n",
    "    pred_wkts = current_wickets\n",
    "    \n",
    "    # Convert current_overs (e.g., 19.0 or 19.2) into total balls bowled.\n",
    "    overs_int = int(current_overs)\n",
    "    overs_dec = int(round((current_overs - overs_int) * 10))  # e.g., 19.2 -> 2 balls\n",
    "    balls_bowled = overs_int * 6 + overs_dec\n",
    "    \n",
    "    # Total balls in an ODI = 300 (50 overs)\n",
    "    leftover_balls = 300 - balls_bowled\n",
    "    \n",
    "    for _ in range(leftover_balls):\n",
    "        if pred_wkts == 10:  # all out\n",
    "            break\n",
    "        if pred_runs >= target:  # chase reached or surpassed\n",
    "            break\n",
    "        \n",
    "        r_value = np.random.random()\n",
    "        \n",
    "        # Use cumulative probabilities to decide the ball's outcome.\n",
    "        if r_value <= p0:\n",
    "            # 0 runs: no change\n",
    "            pass\n",
    "        elif r_value <= p1:\n",
    "            pred_runs += 1\n",
    "        elif r_value <= p2:\n",
    "            pred_runs += 2\n",
    "        elif r_value <= p3:\n",
    "            pred_runs += 3\n",
    "        elif r_value <= p4:\n",
    "            pred_runs += 4\n",
    "        elif r_value <= p6:\n",
    "            pred_runs += 6\n",
    "        else:\n",
    "            # Wicket falls\n",
    "            pred_wkts += 1\n",
    "            \n",
    "    return pred_runs\n",
    "\n",
    "# Test a single simulation (starting from AFG's current state: 70/4 in 19 overs, target = 316)\n",
    "print(\"Predicted final runs (one simulation):\", predict_runs_afg(316, 70, 4, 19))\n"
   ]
  },
  {
   "cell_type": "markdown",
   "id": "63dedd8e",
   "metadata": {},
   "source": [
    "## Step 4: Determine Outcome (Win, Tie, Lose)"
   ]
  },
  {
   "cell_type": "code",
   "execution_count": 18,
   "id": "28882544",
   "metadata": {},
   "outputs": [
    {
     "name": "stdout",
     "output_type": "stream",
     "text": [
      "Outcome of simulation: lose\n"
     ]
    }
   ],
   "source": [
    "def get_win_afg(pred_runs, target):\n",
    "    \"\"\"\n",
    "    Returns the outcome of the simulation:\n",
    "      'win' if pred_runs > target,\n",
    "      'tie' if pred_runs == target,\n",
    "      'lose' otherwise.\n",
    "    \"\"\"\n",
    "    if pred_runs > target:\n",
    "        return 'win'\n",
    "    elif pred_runs == target:\n",
    "        return 'tie'\n",
    "    else:\n",
    "        return 'lose'\n",
    "\n",
    "# Test the outcome function:\n",
    "test_runs = predict_runs_afg(316, 70, 4, 19)\n",
    "print(\"Outcome of simulation:\", get_win_afg(test_runs, 316))\n"
   ]
  },
  {
   "cell_type": "markdown",
   "id": "4d2bc8ed",
   "metadata": {},
   "source": [
    "## Step 5: Find Required Runs at a Given Over"
   ]
  },
  {
   "cell_type": "code",
   "execution_count": 19,
   "id": "b2a99f61",
   "metadata": {},
   "outputs": [
    {
     "name": "stdout",
     "output_type": "stream",
     "text": [
      "Required runs by 20 overs: 204\n"
     ]
    }
   ],
   "source": [
    "def find_runs_afg(current_score, target, current_wickets, at_overs, sims=100):\n",
    "    \"\"\"\n",
    "    Iterates over hypothetical scores starting from current_score up to target.\n",
    "    For each score, runs 'sims' simulations and counts wins.\n",
    "    Returns the first hypothetical score that yields at least 50% wins.\n",
    "    \"\"\"\n",
    "    for hypothetical_score in range(current_score, target + 1):\n",
    "        win_count = 0\n",
    "        for _ in range(sims):\n",
    "            pred = predict_runs_afg(target, hypothetical_score, current_wickets, at_overs)\n",
    "            if get_win_afg(pred, target) == 'win':\n",
    "                win_count += 1\n",
    "        if win_count >= sims * 0.5:\n",
    "            return hypothetical_score\n",
    "    return current_score\n",
    "\n",
    "# Example: Find required runs by 20 overs, given current state of 70/4\n",
    "print(\"Required runs by 20 overs:\", find_runs_afg(70, 316, 4, 20))\n"
   ]
  },
  {
   "cell_type": "markdown",
   "id": "bebcdb4b",
   "metadata": {},
   "source": [
    "## Step 6: Find Allowed Wickets at a Given Over"
   ]
  },
  {
   "cell_type": "code",
   "execution_count": 20,
   "id": "6d721709",
   "metadata": {},
   "outputs": [
    {
     "name": "stdout",
     "output_type": "stream",
     "text": [
      "Allowed wickets by 20 overs: 4\n"
     ]
    }
   ],
   "source": [
    "def find_wickets_afg(current_score, target, current_wickets, at_overs, sims=100):\n",
    "    \"\"\"\n",
    "    Iterates from current_wickets up to 9 and runs 'sims' simulations for each wicket count.\n",
    "    Returns the maximum number of wickets that can be lost while maintaining at least 50% win probability.\n",
    "    \"\"\"\n",
    "    allowed_wickets = current_wickets\n",
    "    for w in range(current_wickets, 10):\n",
    "        win_count = 0\n",
    "        for _ in range(sims):\n",
    "            pred = predict_runs_afg(target, current_score, w, at_overs)\n",
    "            if get_win_afg(pred, target) == 'win':\n",
    "                win_count += 1\n",
    "        if win_count < sims * 0.5:\n",
    "            break\n",
    "        else:\n",
    "            allowed_wickets = w\n",
    "    return allowed_wickets\n",
    "\n",
    "# Example: Find allowed wickets by 20 overs given current state 70/4\n",
    "print(\"Allowed wickets by 20 overs:\", find_wickets_afg(70, 316, 4, 20))\n"
   ]
  },
  {
   "cell_type": "markdown",
   "id": "d4f5a5ab",
   "metadata": {},
   "source": [
    "## Step 7: Create the Interactive Visualization"
   ]
  },
  {
   "cell_type": "code",
   "execution_count": 21,
   "id": "83d02aa4",
   "metadata": {
    "scrolled": true
   },
   "outputs": [
    {
     "data": {
      "application/vnd.jupyter.widget-view+json": {
       "model_id": "1c5228f391ae49949e7ad6c7997a6673",
       "version_major": 2,
       "version_minor": 0
      },
      "text/plain": [
       "interactive(children=(IntSlider(value=4, description='current_wks', max=9), IntSlider(value=19, description='a…"
      ]
     },
     "metadata": {},
     "output_type": "display_data"
    }
   ],
   "source": [
    "def find_runs_wickets_afg(current_wks, at_overs, target_score):\n",
    "    plt.figure(figsize=(10, 5))\n",
    "    \n",
    "    # For an interactive model, we can set the starting (current) score.\n",
    "    # In this match, AFG is currently 70/4 in 19 overs.\n",
    "    # We use the actual current score if at_overs equals the current over, \n",
    "    # but here we allow the user to explore different overs.\n",
    "    # For simulation, if at_overs equals the current over (19), we could fix current_score = 70.\n",
    "    # For simplicity, assume current_score = 70 for all cases.\n",
    "    current_score = 70  \n",
    "\n",
    "    # Calculate required runs and allowed wickets at the specified over\n",
    "    req_value = find_runs_afg(current_score, target_score, current_wks, at_overs)\n",
    "    req_wk_value = find_wickets_afg(current_score, target_score, current_wks, at_overs)\n",
    "    \n",
    "    # Special case: if at_overs is 19 (the current state), then required runs/wickets should be the current state.\n",
    "    if at_overs == 19:\n",
    "        req_value = current_score\n",
    "        req_wk_value = current_wks\n",
    "\n",
    "    # Plot a dashed line for the target score\n",
    "    plt.axhline(target_score, ls='--', color='red')\n",
    "    plt.text(1, target_score + 10, f\"Target Score: {target_score}\", color='darkgreen', fontsize=12)\n",
    "    \n",
    "    # Plot the required state as a big red dot\n",
    "    plt.scatter(at_overs, req_value, s=1000, color='royalblue')\n",
    "    plt.text(at_overs, req_value, f\"{req_value}/{req_wk_value}\",\n",
    "             color='floralwhite', fontsize=12, ha='center', va='center')\n",
    "    \n",
    "    plt.text(at_overs, req_value - 30,\n",
    "             f\"AFG should be at {req_value}/{req_wk_value} after {at_overs} ov\",\n",
    "             ha='center')\n",
    "    \n",
    "    plt.title(\"Where should AFG be?\", fontsize=16)\n",
    "    plt.xlabel(\"Overs\")\n",
    "    plt.ylabel(\"Score\")\n",
    "    plt.xlim(0, 50)\n",
    "    plt.ylim(0, target_score + 50)\n",
    "    plt.show()\n",
    "\n",
    "# Create the interactive widget:\n",
    "# Default parameters: current_wks = 4, at_overs = 19 (current state), target_score = 316.\n",
    "interactive_plot = interactive(\n",
    "    find_runs_wickets_afg,\n",
    "    current_wks=IntSlider(min=0, max=9, step=1, value=4),\n",
    "    at_overs=IntSlider(min=19, max=50, step=1, value=19),\n",
    "    target_score=IntSlider(min=300, max=350, step=1, value=316)\n",
    ")\n",
    "interactive_plot"
   ]
  },
  {
   "cell_type": "code",
   "execution_count": 29,
   "id": "94731b6d",
   "metadata": {},
   "outputs": [
    {
     "data": {
      "image/png": "[encoded data removed]",
      "text/plain": [
       "<PIL.PngImagePlugin.PngImageFile image mode=RGBA size=944x586>"
      ]
     },
     "metadata": {},
     "output_type": "display_data"
    }
   ],
   "source": []
  }
 ],
 "metadata": {
  "kernelspec": {
   "display_name": "Python 3 (ipykernel)",
   "language": "python",
   "name": "python3"
  },
  "language_info": {
   "codemirror_mode": {
    "name": "ipython",
    "version": 3
   },
   "file_extension": ".py",
   "mimetype": "text/x-python",
   "name": "python",
   "nbconvert_exporter": "python",
   "pygments_lexer": "ipython3",
   "version": "3.10.9"
  }
 },
 "nbformat": 4,
 "nbformat_minor": 5
}
