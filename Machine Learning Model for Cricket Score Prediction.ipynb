{
 "cells": [
  {
   "cell_type": "markdown",
   "id": "cdf039d3",
   "metadata": {},
   "source": [
    "# Machine Learning Model for Cricket Score Prediction "
   ]
  },
  {
   "cell_type": "code",
   "execution_count": 1,
   "id": "03453e88",
   "metadata": {},
   "outputs": [],
   "source": [
    "import pandas as pd\n",
    "import numpy as np\n",
    "from sklearn.model_selection import train_test_split\n",
    "from sklearn.ensemble import RandomForestRegressor\n",
    "from sklearn.metrics import mean_squared_error\n",
    "from sklearn.metrics import r2_score\n",
    "import matplotlib.pyplot as plt\n",
    "\n",
    "pd.set_option(\"display.max_columns\", None) \n",
    "pd.set_option(\"display.max_rows\", None) "
   ]
  },
  {
   "cell_type": "code",
   "execution_count": 2,
   "id": "9aa9c650",
   "metadata": {},
   "outputs": [
    {
     "data": {
      "text/html": [
       "<div>\n",
       "<style scoped>\n",
       "    .dataframe tbody tr th:only-of-type {\n",
       "        vertical-align: middle;\n",
       "    }\n",
       "\n",
       "    .dataframe tbody tr th {\n",
       "        vertical-align: top;\n",
       "    }\n",
       "\n",
       "    .dataframe thead th {\n",
       "        text-align: right;\n",
       "    }\n",
       "</style>\n",
       "<table border=\"1\" class=\"dataframe\">\n",
       "  <thead>\n",
       "    <tr style=\"text-align: right;\">\n",
       "      <th></th>\n",
       "      <th>Date</th>\n",
       "      <th>Batting Team</th>\n",
       "      <th>Bowling Team</th>\n",
       "      <th>Striker</th>\n",
       "      <th>Non-Striker</th>\n",
       "      <th>Bowler</th>\n",
       "      <th>Innings</th>\n",
       "      <th>Unique</th>\n",
       "      <th>Over Number</th>\n",
       "      <th>Over Ball</th>\n",
       "      <th>Runs</th>\n",
       "      <th>Wides</th>\n",
       "      <th>Team Runs</th>\n",
       "      <th>Remaining Overs</th>\n",
       "      <th>Lead By</th>\n",
       "      <th>Trail By</th>\n",
       "      <th>Fall Of Wickets</th>\n",
       "      <th>Day</th>\n",
       "      <th>Session</th>\n",
       "      <th>Leg Byes</th>\n",
       "      <th>No Balls</th>\n",
       "      <th>Balls</th>\n",
       "      <th>Byes</th>\n",
       "      <th>Remaining Balls</th>\n",
       "      <th>Remaining Runs</th>\n",
       "      <th>Run Rate</th>\n",
       "      <th>Batter Sixes</th>\n",
       "      <th>Batter Runs</th>\n",
       "      <th>Batter Fours</th>\n",
       "      <th>Batter Balls</th>\n",
       "      <th>Batter Total Runs</th>\n",
       "      <th>Dismissal Type</th>\n",
       "      <th>Dismissal Fielder</th>\n",
       "      <th>On Field Minutes</th>\n",
       "    </tr>\n",
       "  </thead>\n",
       "  <tbody>\n",
       "    <tr>\n",
       "      <th>0</th>\n",
       "      <td>2025-1-18 19:00:00</td>\n",
       "      <td>Rangpur Riders</td>\n",
       "      <td>Chittagong Kings</td>\n",
       "      <td>Tawfique Khan</td>\n",
       "      <td>Steven Taylor</td>\n",
       "      <td>Binura Fernando</td>\n",
       "      <td>1</td>\n",
       "      <td>0.1</td>\n",
       "      <td>1</td>\n",
       "      <td>1</td>\n",
       "      <td>0</td>\n",
       "      <td>0</td>\n",
       "      <td>0</td>\n",
       "      <td>19.5</td>\n",
       "      <td>0</td>\n",
       "      <td>0</td>\n",
       "      <td>0</td>\n",
       "      <td>1</td>\n",
       "      <td>1</td>\n",
       "      <td>0</td>\n",
       "      <td>0</td>\n",
       "      <td>1</td>\n",
       "      <td>0</td>\n",
       "      <td>119</td>\n",
       "      <td>NaN</td>\n",
       "      <td>0.0</td>\n",
       "      <td>0</td>\n",
       "      <td>0</td>\n",
       "      <td>0</td>\n",
       "      <td>1</td>\n",
       "      <td>0</td>\n",
       "      <td>NaN</td>\n",
       "      <td>NaN</td>\n",
       "      <td>0</td>\n",
       "    </tr>\n",
       "    <tr>\n",
       "      <th>1</th>\n",
       "      <td>2025-1-18 19:00:00</td>\n",
       "      <td>Rangpur Riders</td>\n",
       "      <td>Chittagong Kings</td>\n",
       "      <td>Tawfique Khan</td>\n",
       "      <td>Steven Taylor</td>\n",
       "      <td>Binura Fernando</td>\n",
       "      <td>1</td>\n",
       "      <td>0.2</td>\n",
       "      <td>1</td>\n",
       "      <td>2</td>\n",
       "      <td>0</td>\n",
       "      <td>0</td>\n",
       "      <td>0</td>\n",
       "      <td>19.4</td>\n",
       "      <td>0</td>\n",
       "      <td>0</td>\n",
       "      <td>0</td>\n",
       "      <td>1</td>\n",
       "      <td>1</td>\n",
       "      <td>0</td>\n",
       "      <td>0</td>\n",
       "      <td>2</td>\n",
       "      <td>0</td>\n",
       "      <td>118</td>\n",
       "      <td>NaN</td>\n",
       "      <td>0.0</td>\n",
       "      <td>0</td>\n",
       "      <td>0</td>\n",
       "      <td>0</td>\n",
       "      <td>2</td>\n",
       "      <td>0</td>\n",
       "      <td>NaN</td>\n",
       "      <td>NaN</td>\n",
       "      <td>0</td>\n",
       "    </tr>\n",
       "  </tbody>\n",
       "</table>\n",
       "</div>"
      ],
      "text/plain": [
       "                 Date    Batting Team      Bowling Team        Striker  \\\n",
       "0  2025-1-18 19:00:00  Rangpur Riders  Chittagong Kings  Tawfique Khan   \n",
       "1  2025-1-18 19:00:00  Rangpur Riders  Chittagong Kings  Tawfique Khan   \n",
       "\n",
       "     Non-Striker           Bowler  Innings  Unique  Over Number  Over Ball  \\\n",
       "0  Steven Taylor  Binura Fernando        1     0.1            1          1   \n",
       "1  Steven Taylor  Binura Fernando        1     0.2            1          2   \n",
       "\n",
       "   Runs  Wides  Team Runs  Remaining Overs  Lead By  Trail By  \\\n",
       "0     0      0          0             19.5        0         0   \n",
       "1     0      0          0             19.4        0         0   \n",
       "\n",
       "   Fall Of Wickets  Day  Session  Leg Byes  No Balls  Balls  Byes  \\\n",
       "0                0    1        1         0         0      1     0   \n",
       "1                0    1        1         0         0      2     0   \n",
       "\n",
       "   Remaining Balls  Remaining Runs  Run Rate  Batter Sixes  Batter Runs  \\\n",
       "0              119             NaN       0.0             0            0   \n",
       "1              118             NaN       0.0             0            0   \n",
       "\n",
       "   Batter Fours  Batter Balls  Batter Total Runs Dismissal Type  \\\n",
       "0             0             1                  0            NaN   \n",
       "1             0             2                  0            NaN   \n",
       "\n",
       "  Dismissal Fielder  On Field Minutes  \n",
       "0               NaN                 0  \n",
       "1               NaN                 0  "
      ]
     },
     "execution_count": 2,
     "metadata": {},
     "output_type": "execute_result"
    }
   ],
   "source": [
    "data = pd.read_csv('bpl_data.csv')\n",
    "data.head(2)"
   ]
  },
  {
   "cell_type": "markdown",
   "id": "3f77fbd4",
   "metadata": {},
   "source": [
    "## Step: Feature Engineering\n",
    "+ Prepare the dataset to extract features relevant for score prediction:\n",
    "\n",
    "+ Calculate current run rate.\n",
    "+ Include remaining overs, wickets lost, and current score.\n",
    "+ Extract time-based features like Day and Session."
   ]
  },
  {
   "cell_type": "code",
   "execution_count": 3,
   "id": "7fa0de03",
   "metadata": {},
   "outputs": [],
   "source": [
    "# Create key features\n",
    "data['Current Run Rate'] = data['Team Runs'] / (20 - data['Remaining Overs'])\n",
    "data['Wickets Lost'] = 10 - data['Fall Of Wickets']\n",
    "data['Projected Score'] = data['Team Runs'] + (data['Current Run Rate'] * data['Remaining Overs'])\n",
    "\n",
    "# Select important columns for the model\n",
    "features = ['Remaining Overs', 'Wickets Lost', 'Current Run Rate', 'Team Runs']\n",
    "target = 'Projected Score'\n",
    "\n",
    "# Filter for innings-specific rows if required\n",
    "innings_data = data[data['Innings'] == 1]  # Adjust if for second innings"
   ]
  },
  {
   "cell_type": "markdown",
   "id": "0b27bef4",
   "metadata": {},
   "source": [
    "## Step: Split the Dataset\n",
    "+ Split the dataset into training and testing sets."
   ]
  },
  {
   "cell_type": "code",
   "execution_count": 4,
   "id": "cee4d7e1",
   "metadata": {},
   "outputs": [],
   "source": [
    "X = innings_data[features]\n",
    "y = innings_data[target]\n",
    "\n",
    "# Split data into training and testing sets\n",
    "X_train, X_test, y_train, y_test = train_test_split(X, y, test_size=0.2, random_state=42)"
   ]
  },
  {
   "cell_type": "markdown",
   "id": "81efc2fb",
   "metadata": {},
   "source": [
    "## Step: Train the Model\n",
    "+ Use a RandomForestRegressor for training. This model performs well for tabular cricket data."
   ]
  },
  {
   "cell_type": "code",
   "execution_count": 6,
   "id": "951b8759",
   "metadata": {},
   "outputs": [
    {
     "data": {
      "text/html": [
       "<style>#sk-container-id-2 {color: black;background-color: white;}#sk-container-id-2 pre{padding: 0;}#sk-container-id-2 div.sk-toggleable {background-color: white;}#sk-container-id-2 label.sk-toggleable__label {cursor: pointer;display: block;width: 100%;margin-bottom: 0;padding: 0.3em;box-sizing: border-box;text-align: center;}#sk-container-id-2 label.sk-toggleable__label-arrow:before {content: \"▸\";float: left;margin-right: 0.25em;color: #696969;}#sk-container-id-2 label.sk-toggleable__label-arrow:hover:before {color: black;}#sk-container-id-2 div.sk-estimator:hover label.sk-toggleable__label-arrow:before {color: black;}#sk-container-id-2 div.sk-toggleable__content {max-height: 0;max-width: 0;overflow: hidden;text-align: left;background-color: #f0f8ff;}#sk-container-id-2 div.sk-toggleable__content pre {margin: 0.2em;color: black;border-radius: 0.25em;background-color: #f0f8ff;}#sk-container-id-2 input.sk-toggleable__control:checked~div.sk-toggleable__content {max-height: 200px;max-width: 100%;overflow: auto;}#sk-container-id-2 input.sk-toggleable__control:checked~label.sk-toggleable__label-arrow:before {content: \"▾\";}#sk-container-id-2 div.sk-estimator input.sk-toggleable__control:checked~label.sk-toggleable__label {background-color: #d4ebff;}#sk-container-id-2 div.sk-label input.sk-toggleable__control:checked~label.sk-toggleable__label {background-color: #d4ebff;}#sk-container-id-2 input.sk-hidden--visually {border: 0;clip: rect(1px 1px 1px 1px);clip: rect(1px, 1px, 1px, 1px);height: 1px;margin: -1px;overflow: hidden;padding: 0;position: absolute;width: 1px;}#sk-container-id-2 div.sk-estimator {font-family: monospace;background-color: #f0f8ff;border: 1px dotted black;border-radius: 0.25em;box-sizing: border-box;margin-bottom: 0.5em;}#sk-container-id-2 div.sk-estimator:hover {background-color: #d4ebff;}#sk-container-id-2 div.sk-parallel-item::after {content: \"\";width: 100%;border-bottom: 1px solid gray;flex-grow: 1;}#sk-container-id-2 div.sk-label:hover label.sk-toggleable__label {background-color: #d4ebff;}#sk-container-id-2 div.sk-serial::before {content: \"\";position: absolute;border-left: 1px solid gray;box-sizing: border-box;top: 0;bottom: 0;left: 50%;z-index: 0;}#sk-container-id-2 div.sk-serial {display: flex;flex-direction: column;align-items: center;background-color: white;padding-right: 0.2em;padding-left: 0.2em;position: relative;}#sk-container-id-2 div.sk-item {position: relative;z-index: 1;}#sk-container-id-2 div.sk-parallel {display: flex;align-items: stretch;justify-content: center;background-color: white;position: relative;}#sk-container-id-2 div.sk-item::before, #sk-container-id-2 div.sk-parallel-item::before {content: \"\";position: absolute;border-left: 1px solid gray;box-sizing: border-box;top: 0;bottom: 0;left: 50%;z-index: -1;}#sk-container-id-2 div.sk-parallel-item {display: flex;flex-direction: column;z-index: 1;position: relative;background-color: white;}#sk-container-id-2 div.sk-parallel-item:first-child::after {align-self: flex-end;width: 50%;}#sk-container-id-2 div.sk-parallel-item:last-child::after {align-self: flex-start;width: 50%;}#sk-container-id-2 div.sk-parallel-item:only-child::after {width: 0;}#sk-container-id-2 div.sk-dashed-wrapped {border: 1px dashed gray;margin: 0 0.4em 0.5em 0.4em;box-sizing: border-box;padding-bottom: 0.4em;background-color: white;}#sk-container-id-2 div.sk-label label {font-family: monospace;font-weight: bold;display: inline-block;line-height: 1.2em;}#sk-container-id-2 div.sk-label-container {text-align: center;}#sk-container-id-2 div.sk-container {/* jupyter's `normalize.less` sets `[hidden] { display: none; }` but bootstrap.min.css set `[hidden] { display: none !important; }` so we also need the `!important` here to be able to override the default hidden behavior on the sphinx rendered scikit-learn.org. See: https://github.com/scikit-learn/scikit-learn/issues/21755 */display: inline-block !important;position: relative;}#sk-container-id-2 div.sk-text-repr-fallback {display: none;}</style><div id=\"sk-container-id-2\" class=\"sk-top-container\"><div class=\"sk-text-repr-fallback\"><pre>RandomForestRegressor(random_state=42)</pre><b>In a Jupyter environment, please rerun this cell to show the HTML representation or trust the notebook. <br />On GitHub, the HTML representation is unable to render, please try loading this page with nbviewer.org.</b></div><div class=\"sk-container\" hidden><div class=\"sk-item\"><div class=\"sk-estimator sk-toggleable\"><input class=\"sk-toggleable__control sk-hidden--visually\" id=\"sk-estimator-id-2\" type=\"checkbox\" checked><label for=\"sk-estimator-id-2\" class=\"sk-toggleable__label sk-toggleable__label-arrow\">RandomForestRegressor</label><div class=\"sk-toggleable__content\"><pre>RandomForestRegressor(random_state=42)</pre></div></div></div></div></div>"
      ],
      "text/plain": [
       "RandomForestRegressor(random_state=42)"
      ]
     },
     "execution_count": 6,
     "metadata": {},
     "output_type": "execute_result"
    }
   ],
   "source": [
    "# Initialize the model\n",
    "model = RandomForestRegressor(n_estimators=100, random_state=42)\n",
    "\n",
    "# Train the model\n",
    "model.fit(X_train, y_train)"
   ]
  },
  {
   "cell_type": "markdown",
   "id": "5f5da094",
   "metadata": {},
   "source": [
    "## Step: Evaluate the Model\n",
    "+ Check the model's performance using Mean Squared Error (MSE)."
   ]
  },
  {
   "cell_type": "code",
   "execution_count": 43,
   "id": "bffa7222",
   "metadata": {},
   "outputs": [
    {
     "name": "stdout",
     "output_type": "stream",
     "text": [
      "\n",
      "Model Evaluation:\n",
      "Mean Squared Error (MSE): 5.57\n",
      "Prediction Accuracy (R²): 99.70%\n"
     ]
    },
    {
     "data": {
      "image/png": "[encoded data removed]",
      "text/plain": [
       "<Figure size 800x600 with 1 Axes>"
      ]
     },
     "metadata": {},
     "output_type": "display_data"
    },
    {
     "name": "stdout",
     "output_type": "stream",
     "text": [
      "\n",
      "Interpretation:\n",
      "1. The model explains approximately 99.70% of the variance in the scores.\n",
      "2. Blue points represent the predicted scores vs actual scores.\n",
      "3. The red dashed line indicates perfect prediction. The closer points are to this line, the better the model.\n"
     ]
    }
   ],
   "source": [
    "# Function to evaluate the model and calculate prediction accuracy\n",
    "def evaluate_model_with_accuracy(model, X_test, y_test):\n",
    "    \"\"\"\n",
    "    Evaluate the model's performance, calculate accuracy, and display metrics and plots.\n",
    "    Args:\n",
    "        model: Trained regression model.\n",
    "        X_test: Test set features.\n",
    "        y_test: Actual scores for the test set.\n",
    "    Returns:\n",
    "        None\n",
    "    \"\"\"\n",
    "    # Make predictions\n",
    "    predictions = model.predict(X_test)\n",
    "\n",
    "    # Calculate Mean Squared Error (MSE)\n",
    "    mse = mean_squared_error(y_test, predictions)\n",
    "\n",
    "    # Calculate R-squared (R²) score for accuracy\n",
    "    r2 = r2_score(y_test, predictions)\n",
    "    accuracy = r2 * 100  # Convert R² to percentage\n",
    "\n",
    "    # Print metrics\n",
    "    print(f\"\\nModel Evaluation:\")\n",
    "    print(f\"Mean Squared Error (MSE): {mse:.2f}\")\n",
    "    print(f\"Prediction Accuracy (R²): {accuracy:.2f}%\")\n",
    "\n",
    "    # Plot actual vs predicted scores\n",
    "    plt.figure(figsize=(8, 6))\n",
    "    plt.scatter(y_test, predictions, color='blue', edgecolor='k', alpha=0.7, s=70, label='Predicted vs Actual')\n",
    "    plt.plot([y_test.min(), y_test.max()], [y_test.min(), y_test.max()], \n",
    "             color='red', linestyle='--', linewidth=2, label='Perfect Prediction')\n",
    "    \n",
    "    # Add labels, title, and legend\n",
    "    plt.xlabel(\"Actual Scores\", fontsize=12)\n",
    "    plt.ylabel(\"Predicted Scores\", fontsize=12)\n",
    "    plt.title(\"Actual vs Predicted Scores\", fontsize=14)\n",
    "    plt.legend(loc='upper left', fontsize=10)  # Add legend\n",
    "    plt.grid(True)\n",
    "    plt.show()\n",
    "\n",
    "    # Print tips for interpretation\n",
    "    print(\"\\nInterpretation:\")\n",
    "    print(f\"1. The model explains approximately {accuracy:.2f}% of the variance in the scores.\")\n",
    "    print(\"2. Blue points represent the predicted scores vs actual scores.\")\n",
    "    print(\"3. The red dashed line indicates perfect prediction. The closer points are to this line, the better the model.\")\n",
    "\n",
    "# Example usage\n",
    "evaluate_model_with_accuracy(model, X_test, y_test)"
   ]
  },
  {
   "cell_type": "markdown",
   "id": "5bbc04d1",
   "metadata": {},
   "source": [
    "## Step: Predict Final Score\n",
    "+ For the current match scenario, create a new input and use the model to predict."
   ]
  },
  {
   "cell_type": "code",
   "execution_count": 44,
   "id": "c9f2a4ce",
   "metadata": {},
   "outputs": [
    {
     "name": "stdout",
     "output_type": "stream",
     "text": [
      "Predicted Final Score: 140.22\n"
     ]
    }
   ],
   "source": [
    "# Create a feature vector for the current match\n",
    "current_match = pd.DataFrame({\n",
    "    'Remaining Overs': [20 - 8],  # Overs remaining\n",
    "    'Wickets Lost': [4],         # Wickets lost\n",
    "    'Current Run Rate': [61 / 8], # Current run rate\n",
    "    'Team Runs': [61]            # Current score\n",
    "})\n",
    "\n",
    "# Predict the final score\n",
    "predicted_score = model.predict(current_match)\n",
    "print(f\"Predicted Final Score: {predicted_score[0]:.2f}\")"
   ]
  }
 ],
 "metadata": {
  "kernelspec": {
   "display_name": "Python 3 (ipykernel)",
   "language": "python",
   "name": "python3"
  },
  "language_info": {
   "codemirror_mode": {
    "name": "ipython",
    "version": 3
   },
   "file_extension": ".py",
   "mimetype": "text/x-python",
   "name": "python",
   "nbconvert_exporter": "python",
   "pygments_lexer": "ipython3",
   "version": "3.10.9"
  }
 },
 "nbformat": 4,
 "nbformat_minor": 5
}
